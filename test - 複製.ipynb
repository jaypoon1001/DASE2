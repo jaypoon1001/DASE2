{
 "cells": [
  {
   "cell_type": "code",
   "execution_count": null,
   "id": "32c14b75",
   "metadata": {},
   "outputs": [],
   "source": [
    "import matplotlib.pyplot as plt\n",
    "\n",
    "import pandas as pd\n",
    "\n",
    "import datetime as dt\n",
    "\n",
    "import urllib.request, json\n",
    "\n",
    "import os\n",
    "\n",
    "import numpy as np\n",
    "\n",
    "import tensorflow as tf # This code has been tested with TensorFlow 1.6\n"
   ]
  },
  {
   "cell_type": "code",
   "execution_count": 9,
   "id": "a963ac93",
   "metadata": {},
   "outputs": [],
   "source": [
    "from sklearn.preprocessing import MinMaxScaler\n",
    "from keras.models import Sequential\n",
    "from keras.layers import Dense\n",
    "from keras.layers import LSTM\n",
    "import keras\n",
    "regressor = keras.models.load_model('v1.keras')"
   ]
  },
  {
   "cell_type": "code",
   "execution_count": 52,
   "id": "12be742d",
   "metadata": {},
   "outputs": [],
   "source": [
    "df = pd.read_csv(\"0981.HK.csv\")\n",
    "df['log_rt1'] = np.log(df['Close']).diff()\n",
    "df['log_rt2'] = df['log_rt1'].shift(1)\n",
    "df['log_rt3'] = df['log_rt1'].shift(2)\n",
    "df['log_rt4'] = df['log_rt1'].shift(3)\n",
    "df['log_hc1'] = np.log(df['High']/df['Close'])\n",
    "df['log_hc2'] = np.log(df['High']/df['Close'].shift(1))\n",
    "df['log_hc3'] = np.log(df['High']/df['Close'].shift(2))\n",
    "df['log_lag_hc2'] = np.log(df['High'].shift(1)/df['Close'].shift(1))\n",
    "df['log_lag_hc3'] = np.log(df['High'].shift(2)/df['Close'].shift(2))\n",
    "df['log_lag_hc3'] = np.log(df['High'].shift(3)/df['Close'].shift(3))\n",
    "df['log_last_hc1'] = df['log_hc1'].shift(1)\n",
    "df['log_last_hc2'] = df['log_hc2'].shift(1)\n",
    "df['log_last_hc3'] = df['log_hc3'].shift(1)\n",
    "df['log_lc1'] = np.log(df['Low']/df['Close'])\n",
    "df['log_lc2'] = np.log(df['Low']/df['Close'].shift(1))\n",
    "df['log_lc3'] = np.log(df['Low']/df['Close'].shift(2))\n",
    "df['log_lag_lc2'] = np.log(df['Low'].shift(1)/df['Close'].shift(1))\n",
    "df['log_lag_lc3'] = np.log(df['Low'].shift(2)/df['Close'].shift(2))\n",
    "df['log_lag_lc3'] = np.log(df['Low'].shift(3)/df['Close'].shift(3))\n",
    "df['log_last_lc1'] = df['log_lc1'].shift(1)\n",
    "df['log_last_lc2'] = df['log_lc2'].shift(1)\n",
    "df['log_last_lc3'] = df['log_lc3'].shift(1)\n",
    "df['tr']=pd.concat([df['High'], df['Close'].shift(1)], axis=1).max(axis=1) \\\n",
    "           - pd.concat([df['Low'], df['Close'].shift(1)], axis=1).min(axis=1)\n",
    "df['tr1'] = df['tr'].shift(1)\n",
    "df['tr2'] = df['tr'].shift(2)\n",
    "df['lc1'] = df['Close'].shift(1)\n",
    "df['lc2'] = df['Close'].shift(2)\n",
    "df['lc3'] = df['Close'].shift(3)\n",
    "FullData=df[['Close']].values\n",
    "from sklearn.preprocessing import StandardScaler, MinMaxScaler\n",
    "sc=MinMaxScaler()\n",
    "DataScaler = sc.fit(FullData)\n",
    "df = df.dropna().reset_index(drop=True)\n",
    "df = df.tail(10)\n",
    "df = df.reset_index(drop=True)\n",
    "\n",
    "X = df[['lc1','lc2','lc3']]\n",
    "\n",
    "#'lc1','lc2','lc3'\n",
    "X = (X - X.min()) / (X.max() - X.min())\n",
    "TimeSteps = 10\n",
    "NumberOfFeatures = 3\n",
    "#X_samples = \n",
    "X_data=np.array([X.to_numpy()]) #np.array(X_samples)\n",
    "X_data=X_data.reshape(X_data.shape[0],TimeSteps, NumberOfFeatures)"
   ]
  },
  {
   "cell_type": "code",
   "execution_count": 53,
   "id": "b337be76",
   "metadata": {},
   "outputs": [
    {
     "name": "stdout",
     "output_type": "stream",
     "text": [
      "\u001b[1m1/1\u001b[0m \u001b[32m━━━━━━━━━━━━━━━━━━━━\u001b[0m\u001b[37m\u001b[0m \u001b[1m0s\u001b[0m 58ms/step\n"
     ]
    }
   ],
   "source": [
    "predicted_Price = regressor.predict(X_data)"
   ]
  },
  {
   "cell_type": "code",
   "execution_count": 54,
   "id": "5abbe9ac",
   "metadata": {},
   "outputs": [
    {
     "data": {
      "text/plain": [
       "array([[48.451763]], dtype=float32)"
      ]
     },
     "execution_count": 54,
     "metadata": {},
     "output_type": "execute_result"
    }
   ],
   "source": [
    "DataScaler.inverse_transform(predicted_Price)"
   ]
  }
 ],
 "metadata": {
  "kernelspec": {
   "display_name": "Python 3",
   "language": "python",
   "name": "python3"
  },
  "language_info": {
   "codemirror_mode": {
    "name": "ipython",
    "version": 3
   },
   "file_extension": ".py",
   "mimetype": "text/x-python",
   "name": "python",
   "nbconvert_exporter": "python",
   "pygments_lexer": "ipython3",
   "version": "3.11.6"
  }
 },
 "nbformat": 4,
 "nbformat_minor": 5
}
